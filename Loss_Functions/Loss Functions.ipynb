{
 "cells": [
  {
   "cell_type": "markdown",
   "id": "330857fa-d9c3-45ea-94eb-ae46c0d892fb",
   "metadata": {},
   "source": [
    "## Loss or Cost Function"
   ]
  },
  {
   "cell_type": "markdown",
   "id": "aaf53738-c16a-4b9c-8cfa-54f3e3deb910",
   "metadata": {},
   "source": [
    "#### Tensorflow loss value examples\n",
    "\n",
    "* sparse_categorical_crossentropy\n",
    "* binary_crossentropy\n",
    "* categroical_crossentropy\n",
    "* mean_absolute_error\n",
    "* mean_squared_eeor"
   ]
  },
  {
   "cell_type": "code",
   "execution_count": 3,
   "id": "74abecb5-db20-4366-aa6a-b0f6591cba7d",
   "metadata": {},
   "outputs": [],
   "source": [
    "import numpy as np\n",
    "\n",
    "y_predicted = np.array([1,1,0,0,1])\n",
    "y_true = np.array([0.30, 0.7, 1, 0 , 0.5])"
   ]
  },
  {
   "cell_type": "markdown",
   "id": "4a39e717-9706-4e89-b9d0-c92b94ef30ea",
   "metadata": {},
   "source": [
    "## Mean Absolute Error"
   ]
  },
  {
   "cell_type": "code",
   "execution_count": 5,
   "id": "19f83746-1e70-44d0-9846-b5ff24af49f3",
   "metadata": {},
   "outputs": [],
   "source": [
    "def mean_absolute_error(y_true, y_predicted):\n",
    "    total_error = 0\n",
    "    for yt, yp in zip(y_true, y_predicted):\n",
    "        total_error += abs(yt - yp)\n",
    "    print(\"Total error : \", total_error)\n",
    "    mae = total_error / len(y_true)\n",
    "    print(\"Mean Absolute Error : \", mae)"
   ]
  },
  {
   "cell_type": "code",
   "execution_count": 7,
   "id": "7c8bf099-43fb-4ca3-921c-da1295fb4979",
   "metadata": {},
   "outputs": [
    {
     "name": "stdout",
     "output_type": "stream",
     "text": [
      "Total error :  2.5\n",
      "Mean Absolute Error :  0.5\n"
     ]
    }
   ],
   "source": [
    "mean_absolute_error(y_true, y_predicted)"
   ]
  },
  {
   "cell_type": "markdown",
   "id": "8f94550f-44f9-4031-a624-6bf510f77197",
   "metadata": {},
   "source": [
    "#### Implement same thing using numpy in much easier way"
   ]
  },
  {
   "cell_type": "code",
   "execution_count": 9,
   "id": "d77a24bf-d94a-4ae4-9f2e-1d401cecb7dc",
   "metadata": {},
   "outputs": [
    {
     "name": "stdout",
     "output_type": "stream",
     "text": [
      "2.5\n"
     ]
    },
    {
     "data": {
      "text/plain": [
       "0.5"
      ]
     },
     "execution_count": 9,
     "metadata": {},
     "output_type": "execute_result"
    }
   ],
   "source": [
    "print(np.sum(np.abs(y_predicted - y_true)))\n",
    "np.mean(np.abs(y_predicted - y_true))"
   ]
  },
  {
   "cell_type": "code",
   "execution_count": 29,
   "id": "126066df-6d76-46d2-85ef-c8e776a0ff18",
   "metadata": {},
   "outputs": [
    {
     "data": {
      "text/plain": [
       "array([0.7, 0.3, 1. , 0. , 0.5])"
      ]
     },
     "execution_count": 29,
     "metadata": {},
     "output_type": "execute_result"
    }
   ],
   "source": [
    "np.abs(y_predicted-y_true)"
   ]
  },
  {
   "cell_type": "code",
   "execution_count": 31,
   "id": "7dfea977-a68a-473a-a394-a822d9d4f187",
   "metadata": {},
   "outputs": [
    {
     "data": {
      "text/plain": [
       "0.5"
      ]
     },
     "execution_count": 31,
     "metadata": {},
     "output_type": "execute_result"
    }
   ],
   "source": [
    "np.mean(np.abs(y_predicted-y_true))"
   ]
  },
  {
   "cell_type": "code",
   "execution_count": 33,
   "id": "711e2752-ae5d-430b-80ee-088435a412eb",
   "metadata": {},
   "outputs": [],
   "source": [
    "def mae_np(y_predicted, y_true):\n",
    "    return np.mean(np.abs(y_predicted-y_true))"
   ]
  },
  {
   "cell_type": "code",
   "execution_count": 35,
   "id": "e1c3f97e-e21d-4399-ac17-feb84acb8f4a",
   "metadata": {},
   "outputs": [
    {
     "data": {
      "text/plain": [
       "0.5"
      ]
     },
     "execution_count": 35,
     "metadata": {},
     "output_type": "execute_result"
    }
   ],
   "source": [
    "mae_np(y_predicted, y_true)"
   ]
  },
  {
   "cell_type": "markdown",
   "id": "0a8748f3-e662-4a4f-9d23-e97e496354a5",
   "metadata": {},
   "source": [
    "## Log Loss or Binary Cross Entropy"
   ]
  },
  {
   "cell_type": "code",
   "execution_count": 11,
   "id": "b0241e2d-e93c-40d5-8e5c-ffd2047e03de",
   "metadata": {},
   "outputs": [
    {
     "data": {
      "text/plain": [
       "array([-27.63102112])"
      ]
     },
     "execution_count": 11,
     "metadata": {},
     "output_type": "execute_result"
    }
   ],
   "source": [
    "np.log([0.000000000001])"
   ]
  },
  {
   "cell_type": "code",
   "execution_count": 13,
   "id": "7b8f1f24-975d-4370-824d-c5ba30d83d5e",
   "metadata": {},
   "outputs": [],
   "source": [
    "epsilon = 1e-15"
   ]
  },
  {
   "cell_type": "code",
   "execution_count": 15,
   "id": "a48f3ca5-11f2-4e3c-bb0f-4f6609e3a425",
   "metadata": {},
   "outputs": [
    {
     "data": {
      "text/plain": [
       "[1, 1, 1e-15, 1e-15, 1]"
      ]
     },
     "execution_count": 15,
     "metadata": {},
     "output_type": "execute_result"
    }
   ],
   "source": [
    "y_predicted_new = [max(i,epsilon) for i in y_predicted]\n",
    "y_predicted_new"
   ]
  },
  {
   "cell_type": "code",
   "execution_count": 17,
   "id": "3f6c5af0-7722-4660-99ff-13b55443ed43",
   "metadata": {},
   "outputs": [
    {
     "data": {
      "text/plain": [
       "[0.999999999999999, 0.999999999999999, 1e-15, 1e-15, 0.999999999999999]"
      ]
     },
     "execution_count": 17,
     "metadata": {},
     "output_type": "execute_result"
    }
   ],
   "source": [
    "y_predicted_new = [min(i, 1- epsilon) for i in y_predicted_new]\n",
    "y_predicted_new"
   ]
  },
  {
   "cell_type": "code",
   "execution_count": 19,
   "id": "d3089718-743b-4cc0-9bb7-191287b19f2b",
   "metadata": {},
   "outputs": [
    {
     "data": {
      "text/plain": [
       "array([-9.99200722e-16, -9.99200722e-16, -3.45387764e+01, -3.45387764e+01,\n",
       "       -9.99200722e-16])"
      ]
     },
     "execution_count": 19,
     "metadata": {},
     "output_type": "execute_result"
    }
   ],
   "source": [
    "y_predicted_new = np.array(y_predicted_new)\n",
    "np.log(y_predicted_new)"
   ]
  },
  {
   "cell_type": "code",
   "execution_count": 21,
   "id": "a92dc0bc-1571-4369-bb95-2a9311c825e0",
   "metadata": {},
   "outputs": [
    {
     "data": {
      "text/plain": [
       "17.2696280766844"
      ]
     },
     "execution_count": 21,
     "metadata": {},
     "output_type": "execute_result"
    }
   ],
   "source": [
    "-np.mean(y_true * np.log(y_predicted_new) + (1 - y_true) * np.log(1 - y_predicted_new))"
   ]
  },
  {
   "cell_type": "code",
   "execution_count": 23,
   "id": "b86702b1-ff75-41bb-8955-47a425814488",
   "metadata": {},
   "outputs": [],
   "source": [
    "def log_loss(y_true, y_predicted):\n",
    "    y_predicted_new = [max(i, epsilon) for i in y_predicted]\n",
    "    y_predicted_new = [min(i, 1 - epsilon) for i in y_predicted_new]\n",
    "    y_predicted_new = np.array(y_predicted_new)\n",
    "    return -np.mean(y_true * np.log(y_predicted_new) + (1 - y_true) * np.log(1 - y_predicted_new))"
   ]
  },
  {
   "cell_type": "code",
   "execution_count": 25,
   "id": "6af3c4b9-426f-484f-b21a-e409aa3c6d12",
   "metadata": {},
   "outputs": [
    {
     "data": {
      "text/plain": [
       "17.2696280766844"
      ]
     },
     "execution_count": 25,
     "metadata": {},
     "output_type": "execute_result"
    }
   ],
   "source": [
    "log_loss(y_true, y_predicted)"
   ]
  }
 ],
 "metadata": {
  "kernelspec": {
   "display_name": "Python 3 (ipykernel)",
   "language": "python",
   "name": "python3"
  },
  "language_info": {
   "codemirror_mode": {
    "name": "ipython",
    "version": 3
   },
   "file_extension": ".py",
   "mimetype": "text/x-python",
   "name": "python",
   "nbconvert_exporter": "python",
   "pygments_lexer": "ipython3",
   "version": "3.12.4"
  },
  "widgets": {
   "application/vnd.jupyter.widget-state+json": {
    "state": {},
    "version_major": 2,
    "version_minor": 0
   }
  }
 },
 "nbformat": 4,
 "nbformat_minor": 5
}
